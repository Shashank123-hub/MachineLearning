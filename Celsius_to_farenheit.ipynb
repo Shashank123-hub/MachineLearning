{
  "nbformat": 4,
  "nbformat_minor": 0,
  "metadata": {
    "colab": {
      "name": "Celsius to farenheit.ipynb",
      "provenance": [],
      "collapsed_sections": [],
      "authorship_tag": "ABX9TyPtzTm3bt/46ncByQYKr0Sk",
      "include_colab_link": true
    },
    "kernelspec": {
      "name": "python3",
      "display_name": "Python 3"
    },
    "accelerator": "GPU"
  },
  "cells": [
    {
      "cell_type": "markdown",
      "metadata": {
        "id": "view-in-github",
        "colab_type": "text"
      },
      "source": [
        "<a href=\"https://colab.research.google.com/github/Shashank123-hub/MachineLearning/blob/master/Celsius_to_farenheit.ipynb\" target=\"_parent\"><img src=\"https://colab.research.google.com/assets/colab-badge.svg\" alt=\"Open In Colab\"/></a>"
      ]
    },
    {
      "cell_type": "markdown",
      "metadata": {
        "id": "tAp6hwpic28u",
        "colab_type": "text"
      },
      "source": [
        "# **This is a training model for converting Celsius to Farenheit in accordance to the formula :**\n",
        "\n",
        "# F = C * 1.8 + 32\n",
        "\n",
        "where F = Farenheit values\n",
        "\n",
        "and C = Celsius values"
      ]
    },
    {
      "cell_type": "markdown",
      "metadata": {
        "id": "qr7J74Le0LHG",
        "colab_type": "text"
      },
      "source": [
        "# **Step 1 : Importing all dependancies**\n",
        "\n",
        "\n",
        "> This step involves importing all dependencies into our model like **TensorFlow** , **numPy** and other computational dependencies.\n",
        "\n",
        "\n"
      ]
    },
    {
      "cell_type": "code",
      "metadata": {
        "id": "EmaZZQv9YCZE",
        "colab_type": "code",
        "colab": {}
      },
      "source": [
        "from __future__ import absolute_import, division , print_function,unicode_literals\n",
        "\n",
        "#Above are all dependencies"
      ],
      "execution_count": 0,
      "outputs": []
    },
    {
      "cell_type": "code",
      "metadata": {
        "id": "LsLeFEA0yDJt",
        "colab_type": "code",
        "outputId": "6b9822a3-7941-4559-8a0d-16aac5296e5f",
        "colab": {
          "base_uri": "https://localhost:8080/",
          "height": 102
        }
      },
      "source": [
        "try:\n",
        "  %tensorflow_version 2.x  #This version is supported in Colab.\n",
        "except Exception:\n",
        "  pass\n",
        "\n",
        "import tensorflow as tf    #Importing TensorFlow"
      ],
      "execution_count": 0,
      "outputs": [
        {
          "output_type": "stream",
          "text": [
            "`%tensorflow_version` only switches the major version: 1.x or 2.x.\n",
            "You set: `2.x  #This version is supported in Colab.`. This will be interpreted as: `2.x`.\n",
            "\n",
            "\n",
            "TensorFlow 2.x selected.\n"
          ],
          "name": "stdout"
        }
      ]
    },
    {
      "cell_type": "code",
      "metadata": {
        "id": "VKEyZJTmykpG",
        "colab_type": "code",
        "colab": {}
      },
      "source": [
        "import numpy as np    #Importing numpy\n",
        "import logging     #Importing logging module\n",
        "logger = tf.get_logger()\n",
        "logger.setLevel(logging.ERROR)"
      ],
      "execution_count": 0,
      "outputs": []
    },
    {
      "cell_type": "markdown",
      "metadata": {
        "id": "CHte8OBc2jM8",
        "colab_type": "text"
      },
      "source": [
        "# **Step 2 : Setting up training data**\n",
        "\n",
        "> The goal of this step is to provide the training data to our model that we want to train. Since this is a supervised learning case, we provide inputs OR ***Features*** and corresponding outputs OR ***Labels***. \n",
        "\n",
        "> Here the input values will be a list of Celsius value and output will be a list of corresponding Farenheit values. A pair of such input/outpur values is known as an ***Example***.\n",
        "\n",
        "\n",
        "\n",
        "\n",
        "\n",
        "\n",
        "\n",
        "\n"
      ]
    },
    {
      "cell_type": "code",
      "metadata": {
        "colab_type": "code",
        "id": "GAAATjkIgjB2",
        "outputId": "34158545-b2fd-493a-c573-f2c6af4ea19c",
        "colab": {
          "base_uri": "https://localhost:8080/",
          "height": 136
        }
      },
      "source": [
        "celsius_c = np.array([-40 , -10 , 0 , 8 , 15 , 22 , 38], dtype = float)\n",
        "farenheit_f = np.array([-40 , 14 , 32 , 46 , 59 , 72 , 100], dtype = float)\n",
        "\n",
        "for i,c in enumerate(celsius_c):   #To print the values of Celsius and Farenheit\n",
        "  print(\"{} degrees Celsius = {} degrees Farenheit\".format(c, farenheit_f[i]))"
      ],
      "execution_count": 0,
      "outputs": [
        {
          "output_type": "stream",
          "text": [
            "-40.0 degrees Celsius = -40.0 degrees Farenheit\n",
            "-10.0 degrees Celsius = 14.0 degrees Farenheit\n",
            "0.0 degrees Celsius = 32.0 degrees Farenheit\n",
            "8.0 degrees Celsius = 46.0 degrees Farenheit\n",
            "15.0 degrees Celsius = 59.0 degrees Farenheit\n",
            "22.0 degrees Celsius = 72.0 degrees Farenheit\n",
            "38.0 degrees Celsius = 100.0 degrees Farenheit\n"
          ],
          "name": "stdout"
        }
      ]
    },
    {
      "cell_type": "markdown",
      "metadata": {
        "id": "wSz4sBMEhtvA",
        "colab_type": "text"
      },
      "source": [
        "# **Step 3 : Build the model**\n",
        "\n",
        "> Since, our problem is simple and straightforward, we'll use a single layer in the model with a single neuron known as the ***Dense layer***.\n",
        "\n",
        "**Building the layer :**\n",
        "\n",
        "\n",
        "> We'll call the layer 10 and create it by instantiating ***tf.keras.layers.Dense*** with the following parameters :\n",
        "\n",
        "=> input_shape=[1] : This specifies that the input to this layer is a single value i.e the shape is one-dimensional array with one member.\n",
        "\n",
        "=> units=1 : This specifies the number of neurons in the layer.Since this is the final layer, it is also the size of model's output(a single float value representing Farenheit values).\n",
        "\n",
        "\n",
        "\n"
      ]
    },
    {
      "cell_type": "code",
      "metadata": {
        "id": "jFTPLnutjfPo",
        "colab_type": "code",
        "outputId": "71b09973-dabd-4f6c-e248-d4344bd7ca0d",
        "colab": {
          "base_uri": "https://localhost:8080/",
          "height": 34
        }
      },
      "source": [
        "l0 = tf.keras.layers.Dense(units=1, input_shape=[1]) #This creates the layer.\n",
        "print('The layer has been created.')"
      ],
      "execution_count": 0,
      "outputs": [
        {
          "output_type": "stream",
          "text": [
            "The layer has been created.\n"
          ],
          "name": "stdout"
        }
      ]
    },
    {
      "cell_type": "markdown",
      "metadata": {
        "id": "qo4TNIw9jvtE",
        "colab_type": "text"
      },
      "source": [
        "# **Step 4 : Assemble the layer into the model**\n",
        "\n",
        "> After the layer is defined, it needs to be assembled into the model. We will use the Sequential model for this.\n",
        "\n"
      ]
    },
    {
      "cell_type": "code",
      "metadata": {
        "id": "1FvsVeL-kEBB",
        "colab_type": "code",
        "outputId": "027c1238-d6f4-4a08-c012-c1d3bd773648",
        "colab": {
          "base_uri": "https://localhost:8080/",
          "height": 34
        }
      },
      "source": [
        " model = tf.keras.Sequential([l0])\n",
        " print('The model has been created.')"
      ],
      "execution_count": 0,
      "outputs": [
        {
          "output_type": "stream",
          "text": [
            "The model has been created.\n"
          ],
          "name": "stdout"
        }
      ]
    },
    {
      "cell_type": "markdown",
      "metadata": {
        "id": "i6d9hVRjkhYl",
        "colab_type": "text"
      },
      "source": [
        "# **Step 5 : Compiling the model with loss and optimizer functions**\n",
        "\n",
        "> Before training, the model needs to be compiled with respect to the following attributes:\n",
        "\n",
        "=> **Loss function** : A way of measuring how far predictions are from desired output values.\n",
        "\n",
        "=> **Optimizer function** : A way of adjusting internal values in order to reduce loss.\n",
        "\n",
        "\n",
        "The loss function(**mean squared error**) and the optimizer(**Adam**) used are the standard for simple model like this one, but many more are available.\n",
        "\n",
        "Value of Optimizer needs to be set in accordance to the loss rate. The value usually ranges between 0.001 and 0.1 where 0.001 is the default value\n"
      ]
    },
    {
      "cell_type": "code",
      "metadata": {
        "id": "TfuZ_TqulV0B",
        "colab_type": "code",
        "outputId": "9c513d94-537c-4264-d412-40155321869f",
        "colab": {
          "base_uri": "https://localhost:8080/",
          "height": 34
        }
      },
      "source": [
        " model.compile(loss='mean_squared_error',\n",
        "                 optimizer=tf.keras.optimizers.Adam(0.1)) #Corresponding loss and optimizer functions.\n",
        " print('The model has been compiled.')"
      ],
      "execution_count": 0,
      "outputs": [
        {
          "output_type": "stream",
          "text": [
            "The model has been compiled.\n"
          ],
          "name": "stdout"
        }
      ]
    },
    {
      "cell_type": "markdown",
      "metadata": {
        "id": "0rbsnxOzmlJk",
        "colab_type": "text"
      },
      "source": [
        "# **Step 6 : Training the model**\n",
        "\n",
        "> Training can be done by calling the ***fit*** method.\n",
        "\n",
        "Here, the ***epochs*** argument specifies how many times the cycle should run in the training process for calculating, comparing and adjusting the value to loss functions and the ***verbose*** argument controls how much output the method produces.\n",
        "\n"
      ]
    },
    {
      "cell_type": "code",
      "metadata": {
        "id": "xFG-98TennvJ",
        "colab_type": "code",
        "outputId": "3123c961-560c-4342-e6d5-ca33770bb021",
        "colab": {
          "base_uri": "https://localhost:8080/",
          "height": 34
        }
      },
      "source": [
        "history = model.fit(celsius_c , farenheit_f , epochs=500 , verbose=False)  #Defining the epochs and verbose arguments.\n",
        "print(\"Training of the model has been done.\")"
      ],
      "execution_count": 0,
      "outputs": [
        {
          "output_type": "stream",
          "text": [
            "Training of the model has been done.\n"
          ],
          "name": "stdout"
        }
      ]
    },
    {
      "cell_type": "markdown",
      "metadata": {
        "id": "0-prH5den7HI",
        "colab_type": "text"
      },
      "source": [
        "# **Step 7 : Displaying the training statistics**\n",
        "\n",
        "> This optional step involves plotting how loss goes down after each training epoch/cycle. This is done on the basis of history object from the previous method. \n",
        "\n",
        ">We'll use ***Matplotlib*** to visualize this. We can see the plot improves consistently until to almost perfect in the end.\n",
        "\n"
      ]
    },
    {
      "cell_type": "code",
      "metadata": {
        "id": "FAQPpyPDo2Ea",
        "colab_type": "code",
        "outputId": "f3e59d56-cb90-4cb4-96fb-78246f96b81b",
        "colab": {
          "base_uri": "https://localhost:8080/",
          "height": 296
        }
      },
      "source": [
        "import matplotlib.pyplot as plt\n",
        "plt.xlabel(\"Epoch Number\")  #Representing the x Label of the graph.\n",
        "plt.ylabel(\"Loss Magnitude\")  #Representing the y label of the graph.\n",
        "plt.plot(history.history['loss'])"
      ],
      "execution_count": 0,
      "outputs": [
        {
          "output_type": "execute_result",
          "data": {
            "text/plain": [
              "[<matplotlib.lines.Line2D at 0x7f46802a1438>]"
            ]
          },
          "metadata": {
            "tags": []
          },
          "execution_count": 20
        },
        {
          "output_type": "display_data",
          "data": {
            "image/png": "[encoded data removed]",
            "text/plain": [
              "<Figure size 432x288 with 1 Axes>"
            ]
          },
          "metadata": {
            "tags": []
          }
        }
      ]
    },
    {
      "cell_type": "markdown",
      "metadata": {
        "id": "jIMev6pspdkL",
        "colab_type": "text"
      },
      "source": [
        "# **Final Step : Use the model to predict the values**\n",
        "\n",
        "\n",
        "> Now that the training has been completed, the final step is to ensure that our model has learned efficiently and produces the correct output.\n",
        "\n",
        "> For this, we provide a random input value and see if the model gives the correct output values in accordance the defined formula.\n",
        "\n",
        "\n",
        "\n"
      ]
    },
    {
      "cell_type": "code",
      "metadata": {
        "id": "4zpF1SFHqKW_",
        "colab_type": "code",
        "outputId": "134e4193-320f-4fc9-ed40-2e8e17f465f4",
        "colab": {
          "base_uri": "https://localhost:8080/",
          "height": 34
        }
      },
      "source": [
        "print(model.predict([100.0]))  #Providing our own input value to check."
      ],
      "execution_count": 0,
      "outputs": [
        {
          "output_type": "stream",
          "text": [
            "[[211.27579]]\n"
          ],
          "name": "stdout"
        }
      ]
    }
  ]
}